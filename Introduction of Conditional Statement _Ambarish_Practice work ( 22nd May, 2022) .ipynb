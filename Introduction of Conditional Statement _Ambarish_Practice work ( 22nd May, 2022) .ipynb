{
 "cells": [
  {
   "cell_type": "markdown",
   "id": "3360e5de",
   "metadata": {},
   "source": [
    "#  Conditional Statement or Control Flow Statement :-"
   ]
  },
  {
   "cell_type": "code",
   "execution_count": 11,
   "id": "f51671f3",
   "metadata": {},
   "outputs": [
    {
     "name": "stdout",
     "output_type": "stream",
     "text": [
      "this is my first condition\n"
     ]
    }
   ],
   "source": [
    "a = 10                      #Single equal to use for Assignment operator.\n",
    "if a == 10 :                # Double equal to is use for comparision operator.\n",
    "    print(\"this is my first condition\")\n",
    "    \n",
    "    "
   ]
  },
  {
   "cell_type": "code",
   "execution_count": 12,
   "id": "52dbc13e",
   "metadata": {},
   "outputs": [],
   "source": [
    "a = 10\n",
    "if a == 11 :\n",
    "    print(\"this is my first condition\")\n",
    "    \n",
    "    "
   ]
  },
  {
   "cell_type": "code",
   "execution_count": 13,
   "id": "22142742",
   "metadata": {},
   "outputs": [
    {
     "ename": "IndentationError",
     "evalue": "expected an indented block (Temp/ipykernel_12960/1615547911.py, line 3)",
     "output_type": "error",
     "traceback": [
      "\u001b[1;36m  File \u001b[1;32m\"C:\\Users\\Lenovo\\AppData\\Local\\Temp/ipykernel_12960/1615547911.py\"\u001b[1;36m, line \u001b[1;32m3\u001b[0m\n\u001b[1;33m    \u001b[0m\n\u001b[1;37m    ^\u001b[0m\n\u001b[1;31mIndentationError\u001b[0m\u001b[1;31m:\u001b[0m expected an indented block\n"
     ]
    }
   ],
   "source": [
    "a = 10\n",
    "if a > 5 :\n",
    "  "
   ]
  },
  {
   "cell_type": "code",
   "execution_count": 14,
   "id": "1bd26361",
   "metadata": {},
   "outputs": [],
   "source": [
    "a = 10\n",
    "if a > 5 :\n",
    "    pass"
   ]
  },
  {
   "cell_type": "code",
   "execution_count": 15,
   "id": "3d52cd39",
   "metadata": {},
   "outputs": [
    {
     "name": "stdout",
     "output_type": "stream",
     "text": [
      "print this if condition is true\n"
     ]
    }
   ],
   "source": [
    "a = 10\n",
    "if a > 8 :\n",
    "    print(\"print this if condition is true\")"
   ]
  },
  {
   "cell_type": "code",
   "execution_count": 16,
   "id": "c92a8d27",
   "metadata": {},
   "outputs": [],
   "source": [
    "a = 10\n",
    "if a < 8 :\n",
    "    print(\"print this if condition is true\")"
   ]
  },
  {
   "cell_type": "code",
   "execution_count": 17,
   "id": "a9f67698",
   "metadata": {},
   "outputs": [
    {
     "name": "stdout",
     "output_type": "stream",
     "text": [
      "My condition is false\n"
     ]
    }
   ],
   "source": [
    "a = 10\n",
    "if a != 11:\n",
    "    print(\"My condition is false\")\n",
    "else:\n",
    "    print(\"print this\")"
   ]
  },
  {
   "cell_type": "code",
   "execution_count": 18,
   "id": "509b4e1b",
   "metadata": {},
   "outputs": [
    {
     "name": "stdout",
     "output_type": "stream",
     "text": [
      "print this\n"
     ]
    }
   ],
   "source": [
    "a = 10\n",
    "if a == 11:\n",
    "    print(\"My condition is false\")\n",
    "else:\n",
    "    print(\"print this\")"
   ]
  },
  {
   "cell_type": "code",
   "execution_count": 19,
   "id": "3dc7e26b",
   "metadata": {},
   "outputs": [
    {
     "name": "stdout",
     "output_type": "stream",
     "text": [
      "if all the block will fail then do this\n"
     ]
    }
   ],
   "source": [
    "a = 10\n",
    "if a == 12 :\n",
    "    print(\"Here we are trying to compare 10 with 12\")\n",
    "elif a== 11 :\n",
    "    print(\"We are trying to compare 10 with 11\")\n",
    "else :\n",
    "    print(\"if all the block will fail then do this\")\n",
    "    "
   ]
  },
  {
   "cell_type": "code",
   "execution_count": 20,
   "id": "39fe135d",
   "metadata": {},
   "outputs": [
    {
     "name": "stdout",
     "output_type": "stream",
     "text": [
      "We are trying to compare 10 with 11\n"
     ]
    }
   ],
   "source": [
    "a = 10\n",
    "if a == 12 :\n",
    "    print(\"Here we are trying to compare 10 with 12\")\n",
    "elif a== 10 :\n",
    "    print(\"We are trying to compare 10 with 11\")\n",
    "else :\n",
    "    print(\"if all the block will fail then do this\")"
   ]
  },
  {
   "cell_type": "code",
   "execution_count": 21,
   "id": "3b5b582e",
   "metadata": {},
   "outputs": [],
   "source": [
    "price = 500\n",
    "if price >500 :\n",
    "    print(\" May be i wont be able to buy a jacket\")\n",
    "elif price < 500 :\n",
    "    print(\"I will be able to buy a jacket\")"
   ]
  },
  {
   "cell_type": "code",
   "execution_count": 22,
   "id": "3fc58c9b",
   "metadata": {},
   "outputs": [
    {
     "name": "stdout",
     "output_type": "stream",
     "text": [
      "I will be able to buy a jacket\n"
     ]
    }
   ],
   "source": [
    "price = 500\n",
    "if price >500 :\n",
    "    print(\" May be i wont be able to buy a jacket\")\n",
    "elif price <= 500 :\n",
    "    print(\"I will be able to buy a jacket\")"
   ]
  },
  {
   "cell_type": "code",
   "execution_count": 23,
   "id": "32902be8",
   "metadata": {},
   "outputs": [
    {
     "ename": "SyntaxError",
     "evalue": "invalid syntax (Temp/ipykernel_12960/729993159.py, line 6)",
     "output_type": "error",
     "traceback": [
      "\u001b[1;36m  File \u001b[1;32m\"C:\\Users\\Lenovo\\AppData\\Local\\Temp/ipykernel_12960/729993159.py\"\u001b[1;36m, line \u001b[1;32m6\u001b[0m\n\u001b[1;33m    else price == 500 :      # In Else condition we do not give any condition statement.\u001b[0m\n\u001b[1;37m         ^\u001b[0m\n\u001b[1;31mSyntaxError\u001b[0m\u001b[1;31m:\u001b[0m invalid syntax\n"
     ]
    }
   ],
   "source": [
    "price = 500\n",
    "if price >500 :\n",
    "    print(\" May be i wont be able to buy a jacket\")\n",
    "elif price < 500 :\n",
    "    print(\"I will be able to buy a jacket\")\n",
    "else price == 500 :      # In Else condition we do not give any condition statement.\n",
    "    print(\" i dont know\")\n",
    "    "
   ]
  },
  {
   "cell_type": "code",
   "execution_count": 24,
   "id": "dde9792e",
   "metadata": {},
   "outputs": [
    {
     "name": "stdout",
     "output_type": "stream",
     "text": [
      " for sure i will buy a jacket\n"
     ]
    }
   ],
   "source": [
    "price = 500\n",
    "if price >500 :\n",
    "    print(\" May be i wont be able to buy a jacket\")\n",
    "elif price < 500 :\n",
    "    print(\"I will be able to buy a jacket\")\n",
    "elif price == 500 :\n",
    "    print(\" for sure i will buy a jacket\")\n",
    "else :\n",
    "    print(\" i dont know\")\n",
    "    "
   ]
  },
  {
   "cell_type": "code",
   "execution_count": 25,
   "id": "f4d4f7ff",
   "metadata": {},
   "outputs": [
    {
     "data": {
      "text/plain": [
       "False"
      ]
     },
     "execution_count": 25,
     "metadata": {},
     "output_type": "execute_result"
    }
   ],
   "source": [
    "price >500"
   ]
  },
  {
   "cell_type": "code",
   "execution_count": 26,
   "id": "6190c6de",
   "metadata": {},
   "outputs": [
    {
     "data": {
      "text/plain": [
       "False"
      ]
     },
     "execution_count": 26,
     "metadata": {},
     "output_type": "execute_result"
    }
   ],
   "source": [
    "price < 500\n"
   ]
  },
  {
   "cell_type": "code",
   "execution_count": 27,
   "id": "84b50e01",
   "metadata": {},
   "outputs": [
    {
     "data": {
      "text/plain": [
       "True"
      ]
     },
     "execution_count": 27,
     "metadata": {},
     "output_type": "execute_result"
    }
   ],
   "source": [
    "price == 500"
   ]
  },
  {
   "cell_type": "code",
   "execution_count": 29,
   "id": "63a43e99",
   "metadata": {},
   "outputs": [
    {
     "data": {
      "text/plain": [
       "True"
      ]
     },
     "execution_count": 29,
     "metadata": {},
     "output_type": "execute_result"
    }
   ],
   "source": [
    "l = [1,2,3,4,5,6]\n",
    "2 in l"
   ]
  },
  {
   "cell_type": "code",
   "execution_count": 30,
   "id": "34219814",
   "metadata": {},
   "outputs": [
    {
     "name": "stdout",
     "output_type": "stream",
     "text": [
      "try to perform a task\n"
     ]
    }
   ],
   "source": [
    "if 2 in l :\n",
    "    print(\"try to perform a task\")\n",
    "else :\n",
    "    print(\"do not perform this task\")"
   ]
  },
  {
   "cell_type": "code",
   "execution_count": 31,
   "id": "fafb49a5",
   "metadata": {},
   "outputs": [
    {
     "name": "stdout",
     "output_type": "stream",
     "text": [
      "do not perform this task\n"
     ]
    }
   ],
   "source": [
    "if 60 in l :\n",
    "    print(\"try to perform a task\")\n",
    "else :\n",
    "    print(\"do not perform this task\")"
   ]
  },
  {
   "cell_type": "code",
   "execution_count": 32,
   "id": "4917ca05",
   "metadata": {},
   "outputs": [
    {
     "data": {
      "text/plain": [
       "[1, 2, 3, 4, 5, 6]"
      ]
     },
     "execution_count": 32,
     "metadata": {},
     "output_type": "execute_result"
    }
   ],
   "source": [
    "l"
   ]
  },
  {
   "cell_type": "code",
   "execution_count": 33,
   "id": "c73a03f1",
   "metadata": {},
   "outputs": [
    {
     "name": "stdout",
     "output_type": "stream",
     "text": [
      "Try to do addition\n"
     ]
    }
   ],
   "source": [
    "if 1 in l :\n",
    "    print(\"Try to do addition\")\n",
    "elif 2 in l :\n",
    "    print(\"try to do substraction\")\n",
    "elif 3 in l :\n",
    "    print(\"try to do multiplication\")"
   ]
  },
  {
   "cell_type": "code",
   "execution_count": 34,
   "id": "38b4b81b",
   "metadata": {},
   "outputs": [
    {
     "name": "stdout",
     "output_type": "stream",
     "text": [
      "try to do substraction\n"
     ]
    }
   ],
   "source": [
    "if 10 in l :\n",
    "    print(\"Try to do addition\")\n",
    "elif 2 in l :\n",
    "    print(\"try to do substraction\")\n",
    "elif 3 in l :\n",
    "    print(\"try to do multiplication\")"
   ]
  },
  {
   "cell_type": "code",
   "execution_count": 35,
   "id": "06312db2",
   "metadata": {},
   "outputs": [
    {
     "name": "stdout",
     "output_type": "stream",
     "text": [
      "try to do substraction\n",
      "this is new statement\n"
     ]
    }
   ],
   "source": [
    "if 10 in l :\n",
    "    print(\"Try to do addition\")\n",
    "elif 2 in l :\n",
    "    print(\"try to do substraction\")\n",
    "elif 3 in l :\n",
    "    print(\"try to do multiplication\")\n",
    "if 4 in l :\n",
    "    print(\"this is new statement\")"
   ]
  },
  {
   "cell_type": "code",
   "execution_count": 36,
   "id": "2ec89dc8",
   "metadata": {},
   "outputs": [],
   "source": [
    "a = 400 "
   ]
  },
  {
   "cell_type": "code",
   "execution_count": 37,
   "id": "5a27dd25",
   "metadata": {},
   "outputs": [
    {
     "name": "stdout",
     "output_type": "stream",
     "text": [
      "33\n"
     ]
    }
   ],
   "source": [
    "b = input()"
   ]
  },
  {
   "cell_type": "code",
   "execution_count": 38,
   "id": "77aa20a5",
   "metadata": {},
   "outputs": [
    {
     "data": {
      "text/plain": [
       "str"
      ]
     },
     "execution_count": 38,
     "metadata": {},
     "output_type": "execute_result"
    }
   ],
   "source": [
    "type(b)"
   ]
  },
  {
   "cell_type": "code",
   "execution_count": 39,
   "id": "4fd08b02",
   "metadata": {},
   "outputs": [
    {
     "name": "stdout",
     "output_type": "stream",
     "text": [
      "490\n",
      "I will be able to buy something\n",
      "I wont be able to buy anything\n"
     ]
    }
   ],
   "source": [
    "price = int(input())\n",
    "if price < 500 :\n",
    "    print(\"I will be able to buy something\")\n",
    "    if price < 400 :\n",
    "        print(\"I will be able to buy a jacket\")\n",
    "    elif price < 300 :\n",
    "        print(\"I will be able to buy a shirt\")\n",
    "    else :\n",
    "        print(\"I wont be able to buy anything\")\n",
    "else :\n",
    "    print(\"I wont be able to buy anything with this price tag\")\n",
    "        "
   ]
  },
  {
   "cell_type": "code",
   "execution_count": 40,
   "id": "4a136406",
   "metadata": {},
   "outputs": [
    {
     "name": "stdout",
     "output_type": "stream",
     "text": [
      "390\n",
      "I will be able to buy something\n",
      "I will be able to buy a jacket\n"
     ]
    }
   ],
   "source": [
    "price = int(input())\n",
    "if price < 500 :\n",
    "    print(\"I will be able to buy something\")\n",
    "    if price < 400 :\n",
    "        print(\"I will be able to buy a jacket\")\n",
    "    elif price < 300 :\n",
    "        print(\"I will be able to buy a shirt\")\n",
    "    else :\n",
    "        print(\"I wont be able to buy anything\")\n",
    "else :\n",
    "    print(\"I wont be able to buy anything with this price tag\")"
   ]
  },
  {
   "cell_type": "code",
   "execution_count": 41,
   "id": "e29157e0",
   "metadata": {},
   "outputs": [
    {
     "name": "stdout",
     "output_type": "stream",
     "text": [
      "260\n",
      "I will be able to buy something\n",
      "I will be able to buy a jacket\n"
     ]
    }
   ],
   "source": [
    "price = int(input())\n",
    "if price < 500 :\n",
    "    print(\"I will be able to buy something\")\n",
    "    if price < 400 :\n",
    "        print(\"I will be able to buy a jacket\")\n",
    "    elif price < 300 :\n",
    "        print(\"I will be able to buy a shirt\")\n",
    "    else :\n",
    "        print(\"I wont be able to buy anything\")\n",
    "else :\n",
    "    print(\"I wont be able to buy anything with this price tag\")"
   ]
  },
  {
   "cell_type": "code",
   "execution_count": 42,
   "id": "4c73dcc4",
   "metadata": {},
   "outputs": [
    {
     "name": "stdout",
     "output_type": "stream",
     "text": [
      "5666\n",
      "I wont be able to buy anything with this price tag\n",
      "Lets try something else\n"
     ]
    }
   ],
   "source": [
    "price = int(input())\n",
    "if price < 500 :\n",
    "    print(\"I will be able to buy something\")\n",
    "    if price < 400 :\n",
    "        print(\"I will be able to buy a jacket\")\n",
    "    elif price < 300 :\n",
    "        print(\"I will be able to buy a shirt\")\n",
    "        if price < 200 :\n",
    "            print(\"I would like to do something\")\n",
    "    else :\n",
    "        print(\"I wont be able to buy anything\")\n",
    "else :\n",
    "    print(\"I wont be able to buy anything with this price tag\")\n",
    "    if price > 500 :\n",
    "        print(\"Lets try something else\")"
   ]
  },
  {
   "cell_type": "code",
   "execution_count": 45,
   "id": "e42209b9",
   "metadata": {},
   "outputs": [
    {
     "name": "stdout",
     "output_type": "stream",
     "text": [
      "444\n",
      " No GRE\n",
      " No TOFEL\n"
     ]
    }
   ],
   "source": [
    "mark = int(input())\n",
    "if mark < 600 :\n",
    "    print(\" No GRE\")\n",
    "    if mark <500 :\n",
    "        print (\" No TOFEL\")\n",
    "    elif mark < 400 :\n",
    "            print(\" Try something else\")\n",
    "    else :\n",
    "        print(\" YOU GOT TOFEL\")\n",
    "else :\n",
    "    print(\"Congratulations, You Clear GRE \")\n",
    "    "
   ]
  },
  {
   "cell_type": "code",
   "execution_count": 47,
   "id": "587f4460",
   "metadata": {},
   "outputs": [
    {
     "name": "stdout",
     "output_type": "stream",
     "text": [
      "333\n",
      "No GRE\n",
      "NO TOFEL\n"
     ]
    }
   ],
   "source": [
    "mark = int(input())\n",
    "if mark < 600 :\n",
    "    print(\"No GRE\")\n",
    "    if mark < 500 :\n",
    "        print(\"NO TOFEL\") \n",
    "    elif mark < 400 :\n",
    "            print(\"try something else\")\n",
    "    else :\n",
    "        print(\"You Got selected in TOFEL\")\n",
    "        \n",
    "else :\n",
    "    print(\"You got Selected in GRE\")"
   ]
  },
  {
   "cell_type": "code",
   "execution_count": 48,
   "id": "d0f5af6a",
   "metadata": {},
   "outputs": [
    {
     "name": "stdout",
     "output_type": "stream",
     "text": [
      "enter a floating point number1\n",
      "entered value is a positive number\n"
     ]
    }
   ],
   "source": [
    "val = float(input(\"enter a floating point number\"))\n",
    "if val >= 0 :\n",
    "    if val == 0:\n",
    "        print(\"entered value is zero\")\n",
    "    else :\n",
    "            print(\"entered value is a positive number\")\n",
    "else :\n",
    "    print(\"entered number is a negative number\")"
   ]
  },
  {
   "cell_type": "code",
   "execution_count": 49,
   "id": "1c55a61b",
   "metadata": {},
   "outputs": [
    {
     "name": "stdout",
     "output_type": "stream",
     "text": [
      "Try to do something\n"
     ]
    }
   ],
   "source": [
    "a = 10 \n",
    "if a <=10 :\n",
    "    print(\"Try to do something\")"
   ]
  },
  {
   "cell_type": "code",
   "execution_count": 50,
   "id": "61614840",
   "metadata": {},
   "outputs": [
    {
     "name": "stdout",
     "output_type": "stream",
     "text": [
      "Try to do something\n"
     ]
    }
   ],
   "source": [
    "a = 10 \n",
    "if a <10 or a == 10 :\n",
    "    print(\"Try to do something\")"
   ]
  },
  {
   "cell_type": "code",
   "execution_count": 51,
   "id": "7ebe5934",
   "metadata": {},
   "outputs": [],
   "source": [
    "a = 10 \n",
    "if a <10 or a > 10 :\n",
    "    print(\"Try to do something\")"
   ]
  },
  {
   "cell_type": "code",
   "execution_count": 52,
   "id": "2aac1bfb",
   "metadata": {},
   "outputs": [],
   "source": [
    "a = 10 \n",
    "if a <10 and a > 10 :\n",
    "    print(\"Try to do something\")"
   ]
  },
  {
   "cell_type": "code",
   "execution_count": 53,
   "id": "9acfffe9",
   "metadata": {},
   "outputs": [],
   "source": [
    "a = 10 \n",
    "if a <10 and a == 10 :\n",
    "    print(\"Try to do something\")"
   ]
  },
  {
   "cell_type": "code",
   "execution_count": 54,
   "id": "9a4fb0be",
   "metadata": {},
   "outputs": [],
   "source": [
    "a = \"sudh\"\n",
    "if a == \"sudh\" and a ==\"Sudh\" :\n",
    "    print(\" this is sudh\")"
   ]
  },
  {
   "cell_type": "code",
   "execution_count": 55,
   "id": "808a1287",
   "metadata": {},
   "outputs": [
    {
     "name": "stdout",
     "output_type": "stream",
     "text": [
      " this is sudh\n"
     ]
    }
   ],
   "source": [
    "a = \"sudh\"\n",
    "if a == \"sudh\" or a ==\"Sudh\" :\n",
    "    print(\" this is sudh\")"
   ]
  },
  {
   "cell_type": "code",
   "execution_count": 56,
   "id": "958cf266",
   "metadata": {},
   "outputs": [],
   "source": [
    "a = 10\n",
    "b = 11\n",
    "c = 12\n",
    "d = 13\n",
    "if a == 9 and b == 11 and c == 12 and d == 13 :\n",
    "    print(\"lets do something\")"
   ]
  },
  {
   "cell_type": "code",
   "execution_count": 57,
   "id": "ede22413",
   "metadata": {},
   "outputs": [
    {
     "name": "stdout",
     "output_type": "stream",
     "text": [
      "lets do something\n"
     ]
    }
   ],
   "source": [
    "a = 10\n",
    "b = 11\n",
    "c = 12\n",
    "d = 13\n",
    "if a == 9 or b == 11 and c == 12 and d == 13 :\n",
    "    print(\"lets do something\")"
   ]
  },
  {
   "cell_type": "code",
   "execution_count": 58,
   "id": "ba5d70aa",
   "metadata": {},
   "outputs": [],
   "source": [
    "d = {'key1': \"value\" , 'key2' : \"sudh\" ,'key3' : \"iNeuron\"}"
   ]
  },
  {
   "cell_type": "code",
   "execution_count": 59,
   "id": "9c31fe7c",
   "metadata": {},
   "outputs": [
    {
     "data": {
      "text/plain": [
       "{'key1': 'value', 'key2': 'sudh', 'key3': 'iNeuron'}"
      ]
     },
     "execution_count": 59,
     "metadata": {},
     "output_type": "execute_result"
    }
   ],
   "source": [
    "d"
   ]
  },
  {
   "cell_type": "code",
   "execution_count": 60,
   "id": "d060cef8",
   "metadata": {},
   "outputs": [
    {
     "data": {
      "text/plain": [
       "'value'"
      ]
     },
     "execution_count": 60,
     "metadata": {},
     "output_type": "execute_result"
    }
   ],
   "source": [
    "d['key1']"
   ]
  },
  {
   "cell_type": "code",
   "execution_count": 61,
   "id": "b934ce78",
   "metadata": {},
   "outputs": [
    {
     "name": "stdout",
     "output_type": "stream",
     "text": [
      "all the value are verified\n",
      "dict_values(['value', 'sudh', 'iNeuron'])\n"
     ]
    }
   ],
   "source": [
    "if d['key1'] == \"value\" and d['key2'] == \"sudh\" and d['key3'] == \"iNeuron\" :\n",
    "    print(\"all the value are verified\")\n",
    "    print(d.values())"
   ]
  },
  {
   "cell_type": "code",
   "execution_count": 62,
   "id": "90b7604d",
   "metadata": {},
   "outputs": [
    {
     "name": "stdout",
     "output_type": "stream",
     "text": [
      "all the value are not verified\n"
     ]
    }
   ],
   "source": [
    "if d['key1'] == \"value\" and d['key2'] == \"Sudh\" and d['key3'] == \"iNeuron\" :\n",
    "    print(\"all the value are verified\")\n",
    "    print(d.values())\n",
    "else :\n",
    "    print(\"all the value are not verified\")"
   ]
  },
  {
   "cell_type": "code",
   "execution_count": 63,
   "id": "0a21b40d",
   "metadata": {},
   "outputs": [
    {
     "data": {
      "text/plain": [
       "'value'"
      ]
     },
     "execution_count": 63,
     "metadata": {},
     "output_type": "execute_result"
    }
   ],
   "source": [
    "d['key1']"
   ]
  },
  {
   "cell_type": "code",
   "execution_count": 64,
   "id": "8624fe71",
   "metadata": {},
   "outputs": [],
   "source": [
    "l =[1,2,3,4,5,\"sudh\", 234.45]"
   ]
  },
  {
   "cell_type": "code",
   "execution_count": 65,
   "id": "013fa54e",
   "metadata": {},
   "outputs": [
    {
     "data": {
      "text/plain": [
       "1"
      ]
     },
     "execution_count": 65,
     "metadata": {},
     "output_type": "execute_result"
    }
   ],
   "source": [
    "l[0]"
   ]
  },
  {
   "cell_type": "code",
   "execution_count": 66,
   "id": "24d751fb",
   "metadata": {},
   "outputs": [
    {
     "data": {
      "text/plain": [
       "[3, 4, 5]"
      ]
     },
     "execution_count": 66,
     "metadata": {},
     "output_type": "execute_result"
    }
   ],
   "source": [
    "l[2:5]"
   ]
  },
  {
   "cell_type": "code",
   "execution_count": 67,
   "id": "1e33ba8a",
   "metadata": {},
   "outputs": [
    {
     "data": {
      "text/plain": [
       "[1, 2, 3, 4, 5, 'sudh', 234.45]"
      ]
     },
     "execution_count": 67,
     "metadata": {},
     "output_type": "execute_result"
    }
   ],
   "source": [
    "l"
   ]
  },
  {
   "cell_type": "code",
   "execution_count": 68,
   "id": "8c591585",
   "metadata": {},
   "outputs": [
    {
     "name": "stdout",
     "output_type": "stream",
     "text": [
      "1\n",
      "2\n",
      "3\n",
      "4\n",
      "5\n",
      "sudh\n",
      "234.45\n"
     ]
    }
   ],
   "source": [
    "for i in l :\n",
    "    print(i)"
   ]
  },
  {
   "cell_type": "code",
   "execution_count": 69,
   "id": "7ff27500",
   "metadata": {},
   "outputs": [
    {
     "name": "stdout",
     "output_type": "stream",
     "text": [
      "2\n",
      "3\n",
      "4\n",
      "5\n",
      "6\n"
     ]
    },
    {
     "ename": "TypeError",
     "evalue": "can only concatenate str (not \"int\") to str",
     "output_type": "error",
     "traceback": [
      "\u001b[1;31m---------------------------------------------------------------------------\u001b[0m",
      "\u001b[1;31mTypeError\u001b[0m                                 Traceback (most recent call last)",
      "\u001b[1;32m~\\AppData\\Local\\Temp/ipykernel_12960/918082190.py\u001b[0m in \u001b[0;36m<module>\u001b[1;34m\u001b[0m\n\u001b[0;32m      1\u001b[0m \u001b[1;32mfor\u001b[0m \u001b[0mi\u001b[0m \u001b[1;32min\u001b[0m \u001b[0ml\u001b[0m \u001b[1;33m:\u001b[0m\u001b[1;33m\u001b[0m\u001b[1;33m\u001b[0m\u001b[0m\n\u001b[1;32m----> 2\u001b[1;33m     \u001b[0mprint\u001b[0m\u001b[1;33m(\u001b[0m\u001b[0mi\u001b[0m\u001b[1;33m+\u001b[0m\u001b[1;36m1\u001b[0m\u001b[1;33m)\u001b[0m\u001b[1;33m\u001b[0m\u001b[1;33m\u001b[0m\u001b[0m\n\u001b[0m",
      "\u001b[1;31mTypeError\u001b[0m: can only concatenate str (not \"int\") to str"
     ]
    }
   ],
   "source": [
    "for i in l :\n",
    "    print(i+1)"
   ]
  },
  {
   "cell_type": "code",
   "execution_count": 70,
   "id": "04905e76",
   "metadata": {},
   "outputs": [
    {
     "data": {
      "text/plain": [
       "[1, 2, 3, 4, 5, 'sudh', 234.45]"
      ]
     },
     "execution_count": 70,
     "metadata": {},
     "output_type": "execute_result"
    }
   ],
   "source": [
    "l\n"
   ]
  },
  {
   "cell_type": "code",
   "execution_count": 71,
   "id": "510ce72b",
   "metadata": {},
   "outputs": [
    {
     "name": "stdout",
     "output_type": "stream",
     "text": [
      "2\n",
      "3\n",
      "4\n",
      "5\n",
      "6\n",
      "sudh1\n"
     ]
    }
   ],
   "source": [
    "for i in l :\n",
    "    if type(i) == int :\n",
    "        print(i+1)\n",
    "    elif type(i) == str :\n",
    "        print(i + str(1))"
   ]
  },
  {
   "cell_type": "code",
   "execution_count": 72,
   "id": "f2be55e3",
   "metadata": {},
   "outputs": [
    {
     "name": "stdout",
     "output_type": "stream",
     "text": [
      "2\n",
      "3\n",
      "4\n",
      "5\n",
      "6\n",
      "sudh1\n",
      "235.45\n"
     ]
    }
   ],
   "source": [
    "for i in l :\n",
    "    if type(i) == int or type(i) == float:\n",
    "        print(i+1)\n",
    "    elif type(i) == str :\n",
    "        print(i + str(1))"
   ]
  },
  {
   "cell_type": "code",
   "execution_count": 73,
   "id": "629363bb",
   "metadata": {},
   "outputs": [
    {
     "data": {
      "text/plain": [
       "[1, 2, 3, 4, 5, 'sudh', 234.45]"
      ]
     },
     "execution_count": 73,
     "metadata": {},
     "output_type": "execute_result"
    }
   ],
   "source": [
    "l"
   ]
  },
  {
   "cell_type": "code",
   "execution_count": 74,
   "id": "85832726",
   "metadata": {},
   "outputs": [],
   "source": [
    "l1 = []\n",
    "for i in l :\n",
    "    if type(i) == int :\n",
    "        l1.append(i)"
   ]
  },
  {
   "cell_type": "code",
   "execution_count": 75,
   "id": "8b30836d",
   "metadata": {},
   "outputs": [
    {
     "data": {
      "text/plain": [
       "[1, 2, 3, 4, 5]"
      ]
     },
     "execution_count": 75,
     "metadata": {},
     "output_type": "execute_result"
    }
   ],
   "source": [
    "l1"
   ]
  },
  {
   "cell_type": "code",
   "execution_count": 76,
   "id": "94727163",
   "metadata": {},
   "outputs": [
    {
     "name": "stdout",
     "output_type": "stream",
     "text": [
      "333\n",
      "No GRE\n",
      "NO TOFEL\n"
     ]
    }
   ],
   "source": [
    "mark = int(input())\n",
    "if mark < 600 :\n",
    "    print(\"No GRE\")\n",
    "    if mark < 500 :\n",
    "        print(\"NO TOFEL\") \n",
    "    elif mark < 400 :\n",
    "            print(\"try something else\")\n",
    "    else :\n",
    "        print(\"You Got selected in TOFEL\")\n",
    "        \n",
    "else :\n",
    "    print(\"You got Selected in GRE\")\n",
    "    "
   ]
  },
  {
   "cell_type": "code",
   "execution_count": null,
   "id": "ef52c4d1",
   "metadata": {},
   "outputs": [],
   "source": []
  },
  {
   "cell_type": "code",
   "execution_count": null,
   "id": "011001b0",
   "metadata": {},
   "outputs": [],
   "source": []
  },
  {
   "cell_type": "code",
   "execution_count": null,
   "id": "e637ae64",
   "metadata": {},
   "outputs": [],
   "source": []
  }
 ],
 "metadata": {
  "kernelspec": {
   "display_name": "Python 3 (ipykernel)",
   "language": "python",
   "name": "python3"
  },
  "language_info": {
   "codemirror_mode": {
    "name": "ipython",
    "version": 3
   },
   "file_extension": ".py",
   "mimetype": "text/x-python",
   "name": "python",
   "nbconvert_exporter": "python",
   "pygments_lexer": "ipython3",
   "version": "3.9.7"
  }
 },
 "nbformat": 4,
 "nbformat_minor": 5
}
