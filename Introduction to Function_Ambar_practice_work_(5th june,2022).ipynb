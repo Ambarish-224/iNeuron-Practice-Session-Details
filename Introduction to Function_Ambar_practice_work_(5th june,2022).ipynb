{
 "cells": [
  {
   "cell_type": "markdown",
   "id": "1ff83b5f",
   "metadata": {},
   "source": [
    "# Introduction to Function() :-"
   ]
  },
  {
   "cell_type": "code",
   "execution_count": 9,
   "id": "d8bf3099",
   "metadata": {},
   "outputs": [],
   "source": [
    "def test(a, b) :\n",
    "    ''' This is my Function for concatination or addition'''\n",
    "    return a + b\n",
    "    \n",
    "    "
   ]
  },
  {
   "cell_type": "code",
   "execution_count": 3,
   "id": "b0435724",
   "metadata": {},
   "outputs": [
    {
     "data": {
      "text/plain": [
       "10"
      ]
     },
     "execution_count": 3,
     "metadata": {},
     "output_type": "execute_result"
    }
   ],
   "source": [
    "test(4,6)"
   ]
  },
  {
   "cell_type": "code",
   "execution_count": 5,
   "id": "81c36c18",
   "metadata": {},
   "outputs": [
    {
     "data": {
      "text/plain": [
       "'sudh kumar'"
      ]
     },
     "execution_count": 5,
     "metadata": {},
     "output_type": "execute_result"
    }
   ],
   "source": [
    "test(\"sudh \", \"kumar\")"
   ]
  },
  {
   "cell_type": "code",
   "execution_count": 6,
   "id": "66ae76b3",
   "metadata": {},
   "outputs": [
    {
     "data": {
      "text/plain": [
       "15"
      ]
     },
     "execution_count": 6,
     "metadata": {},
     "output_type": "execute_result"
    }
   ],
   "source": [
    "test(a =9, b = 6)"
   ]
  },
  {
   "cell_type": "code",
   "execution_count": 7,
   "id": "cdcbe078",
   "metadata": {},
   "outputs": [
    {
     "data": {
      "text/plain": [
       "48"
      ]
     },
     "execution_count": 7,
     "metadata": {},
     "output_type": "execute_result"
    }
   ],
   "source": [
    "test(b = 45, a = 3)"
   ]
  },
  {
   "cell_type": "code",
   "execution_count": null,
   "id": "234ae6f8",
   "metadata": {},
   "outputs": [],
   "source": [
    "print()"
   ]
  },
  {
   "cell_type": "code",
   "execution_count": 10,
   "id": "6ad5371d",
   "metadata": {},
   "outputs": [],
   "source": [
    "def test1(a,b,c,d,e) :\n",
    "    return a,b,c,d,e"
   ]
  },
  {
   "cell_type": "code",
   "execution_count": 11,
   "id": "dd0c4578",
   "metadata": {},
   "outputs": [
    {
     "data": {
      "text/plain": [
       "(3, 5, 6, 7, 8)"
      ]
     },
     "execution_count": 11,
     "metadata": {},
     "output_type": "execute_result"
    }
   ],
   "source": [
    "test1(3,5,6,7,8)"
   ]
  },
  {
   "cell_type": "code",
   "execution_count": 13,
   "id": "349d2425",
   "metadata": {},
   "outputs": [
    {
     "ename": "TypeError",
     "evalue": "test1() missing 2 required positional arguments: 'd' and 'e'",
     "output_type": "error",
     "traceback": [
      "\u001b[1;31m---------------------------------------------------------------------------\u001b[0m",
      "\u001b[1;31mTypeError\u001b[0m                                 Traceback (most recent call last)",
      "\u001b[1;32m~\\AppData\\Local\\Temp/ipykernel_1492/3401920016.py\u001b[0m in \u001b[0;36m<module>\u001b[1;34m\u001b[0m\n\u001b[1;32m----> 1\u001b[1;33m \u001b[0mtest1\u001b[0m\u001b[1;33m(\u001b[0m\u001b[1;36m7\u001b[0m\u001b[1;33m,\u001b[0m\u001b[1;36m8\u001b[0m\u001b[1;33m,\u001b[0m\u001b[1;36m3\u001b[0m\u001b[1;33m)\u001b[0m\u001b[1;33m\u001b[0m\u001b[1;33m\u001b[0m\u001b[0m\n\u001b[0m",
      "\u001b[1;31mTypeError\u001b[0m: test1() missing 2 required positional arguments: 'd' and 'e'"
     ]
    }
   ],
   "source": [
    "test1(7,8,3)"
   ]
  },
  {
   "cell_type": "code",
   "execution_count": 14,
   "id": "5c04a015",
   "metadata": {},
   "outputs": [],
   "source": [
    "def test(*a) :\n",
    "    return a"
   ]
  },
  {
   "cell_type": "code",
   "execution_count": 15,
   "id": "98777e2b",
   "metadata": {},
   "outputs": [
    {
     "data": {
      "text/plain": [
       "(34, 56)"
      ]
     },
     "execution_count": 15,
     "metadata": {},
     "output_type": "execute_result"
    }
   ],
   "source": [
    "test(34,56)"
   ]
  },
  {
   "cell_type": "code",
   "execution_count": 16,
   "id": "0214391a",
   "metadata": {},
   "outputs": [
    {
     "data": {
      "text/plain": [
       "(3, 6, 9, 4, 1)"
      ]
     },
     "execution_count": 16,
     "metadata": {},
     "output_type": "execute_result"
    }
   ],
   "source": [
    "test(3,6,9,4,1)"
   ]
  },
  {
   "cell_type": "code",
   "execution_count": 18,
   "id": "988d7a1f",
   "metadata": {},
   "outputs": [
    {
     "data": {
      "text/plain": [
       "(4, 6, 8, 1, 6, [1, 2, 3, 4, 5])"
      ]
     },
     "execution_count": 18,
     "metadata": {},
     "output_type": "execute_result"
    }
   ],
   "source": [
    "test(4,6,8,1,6,[1,2,3,4,5])"
   ]
  },
  {
   "cell_type": "code",
   "execution_count": 20,
   "id": "2b3236e3",
   "metadata": {},
   "outputs": [],
   "source": [
    "def test4(*args) :\n",
    "    return args"
   ]
  },
  {
   "cell_type": "code",
   "execution_count": 21,
   "id": "8109bdfe",
   "metadata": {},
   "outputs": [
    {
     "data": {
      "text/plain": [
       "(34, 56, 6, 76, 7)"
      ]
     },
     "execution_count": 21,
     "metadata": {},
     "output_type": "execute_result"
    }
   ],
   "source": [
    "test4(34,56,6,76,7)"
   ]
  },
  {
   "cell_type": "code",
   "execution_count": 22,
   "id": "62bc93b8",
   "metadata": {},
   "outputs": [],
   "source": [
    "def test5(*a) :\n",
    "    l =[]\n",
    "    for i in a :\n",
    "        l.append(i)\n",
    "    return l    \n",
    "        "
   ]
  },
  {
   "cell_type": "code",
   "execution_count": 23,
   "id": "b64ea589",
   "metadata": {},
   "outputs": [
    {
     "data": {
      "text/plain": [
       "[2, 3, 4, 45, 5, [345, 56, 5, 6]]"
      ]
     },
     "execution_count": 23,
     "metadata": {},
     "output_type": "execute_result"
    }
   ],
   "source": [
    "test5(2,3,4,45,5,[345,56,5,6])"
   ]
  },
  {
   "cell_type": "code",
   "execution_count": 24,
   "id": "9a354a76",
   "metadata": {},
   "outputs": [
    {
     "data": {
      "text/plain": [
       "[3, 4, 5, 56]"
      ]
     },
     "execution_count": 24,
     "metadata": {},
     "output_type": "execute_result"
    }
   ],
   "source": [
    "test5(3,4,5,56)"
   ]
  },
  {
   "cell_type": "code",
   "execution_count": 25,
   "id": "6218850d",
   "metadata": {},
   "outputs": [],
   "source": [
    "def test6(a,b,c,d, *m) :\n",
    "    return a,b,c,d, m"
   ]
  },
  {
   "cell_type": "code",
   "execution_count": 26,
   "id": "af0af924",
   "metadata": {},
   "outputs": [
    {
     "data": {
      "text/plain": [
       "(3, 4, 5, 5, (6, 6, 7, 7, 8, 8))"
      ]
     },
     "execution_count": 26,
     "metadata": {},
     "output_type": "execute_result"
    }
   ],
   "source": [
    "test6(3,4,5,5,6,6,7,7,8,8)"
   ]
  },
  {
   "cell_type": "code",
   "execution_count": 27,
   "id": "936f105a",
   "metadata": {},
   "outputs": [],
   "source": [
    "def test7(*m, a,b,c,d,e) :\n",
    "    return m, a,b,c,d,e"
   ]
  },
  {
   "cell_type": "code",
   "execution_count": 28,
   "id": "229cde8f",
   "metadata": {},
   "outputs": [
    {
     "ename": "TypeError",
     "evalue": "test7() missing 5 required keyword-only arguments: 'a', 'b', 'c', 'd', and 'e'",
     "output_type": "error",
     "traceback": [
      "\u001b[1;31m---------------------------------------------------------------------------\u001b[0m",
      "\u001b[1;31mTypeError\u001b[0m                                 Traceback (most recent call last)",
      "\u001b[1;32m~\\AppData\\Local\\Temp/ipykernel_1492/2593195184.py\u001b[0m in \u001b[0;36m<module>\u001b[1;34m\u001b[0m\n\u001b[1;32m----> 1\u001b[1;33m \u001b[0mtest7\u001b[0m\u001b[1;33m(\u001b[0m\u001b[1;36m4\u001b[0m\u001b[1;33m,\u001b[0m\u001b[1;36m5\u001b[0m\u001b[1;33m,\u001b[0m\u001b[1;36m65\u001b[0m\u001b[1;33m,\u001b[0m\u001b[1;36m6\u001b[0m\u001b[1;33m,\u001b[0m\u001b[1;36m6\u001b[0m\u001b[1;33m,\u001b[0m\u001b[1;36m7\u001b[0m\u001b[1;33m,\u001b[0m\u001b[1;36m7\u001b[0m\u001b[1;33m,\u001b[0m\u001b[1;36m56\u001b[0m\u001b[1;33m,\u001b[0m\u001b[1;36m67\u001b[0m\u001b[1;33m,\u001b[0m\u001b[1;36m34\u001b[0m\u001b[1;33m,\u001b[0m\u001b[1;36m54\u001b[0m\u001b[1;33m,\u001b[0m\u001b[1;36m67\u001b[0m\u001b[1;33m,\u001b[0m\u001b[1;36m78\u001b[0m\u001b[1;33m)\u001b[0m\u001b[1;33m\u001b[0m\u001b[1;33m\u001b[0m\u001b[0m\n\u001b[0m",
      "\u001b[1;31mTypeError\u001b[0m: test7() missing 5 required keyword-only arguments: 'a', 'b', 'c', 'd', and 'e'"
     ]
    }
   ],
   "source": [
    "test7(4,5,65,6,6,7,7,56,67,34,54,67,78)"
   ]
  },
  {
   "cell_type": "code",
   "execution_count": 29,
   "id": "658018c2",
   "metadata": {},
   "outputs": [
    {
     "data": {
      "text/plain": [
       "((4, 5, 65, 6, 6, 7, 7, 56), 67, 34, 54, 67, 78)"
      ]
     },
     "execution_count": 29,
     "metadata": {},
     "output_type": "execute_result"
    }
   ],
   "source": [
    "test7(4,5,65,6,6,7,7,56,a=67,b=34,c=54,d=67,e=78)"
   ]
  },
  {
   "cell_type": "code",
   "execution_count": 30,
   "id": "795c7ba8",
   "metadata": {},
   "outputs": [],
   "source": [
    "def test8(**sudh):    # Double ** is related to specific variable in run time.\n",
    "    return sudh"
   ]
  },
  {
   "cell_type": "code",
   "execution_count": 31,
   "id": "ec6ce3b4",
   "metadata": {},
   "outputs": [
    {
     "ename": "TypeError",
     "evalue": "test8() takes 0 positional arguments but 4 were given",
     "output_type": "error",
     "traceback": [
      "\u001b[1;31m---------------------------------------------------------------------------\u001b[0m",
      "\u001b[1;31mTypeError\u001b[0m                                 Traceback (most recent call last)",
      "\u001b[1;32m~\\AppData\\Local\\Temp/ipykernel_1492/3844948467.py\u001b[0m in \u001b[0;36m<module>\u001b[1;34m\u001b[0m\n\u001b[1;32m----> 1\u001b[1;33m \u001b[0mtest8\u001b[0m\u001b[1;33m(\u001b[0m\u001b[1;36m4\u001b[0m\u001b[1;33m,\u001b[0m\u001b[1;36m5\u001b[0m\u001b[1;33m,\u001b[0m\u001b[1;36m6\u001b[0m\u001b[1;33m,\u001b[0m\u001b[1;36m6\u001b[0m\u001b[1;33m)\u001b[0m\u001b[1;33m\u001b[0m\u001b[1;33m\u001b[0m\u001b[0m\n\u001b[0m",
      "\u001b[1;31mTypeError\u001b[0m: test8() takes 0 positional arguments but 4 were given"
     ]
    }
   ],
   "source": [
    "test8(4,5,6,6)"
   ]
  },
  {
   "cell_type": "code",
   "execution_count": 36,
   "id": "e2843758",
   "metadata": {},
   "outputs": [
    {
     "data": {
      "text/plain": [
       "{'b': 4, 'c': 5, 'd': 6, 'e': 6, 'n': [3, 4, 57, 8]}"
      ]
     },
     "execution_count": 36,
     "metadata": {},
     "output_type": "execute_result"
    }
   ],
   "source": [
    "test8(b=4,c=5,d=6,e=6, n =[3,4,57,8])"
   ]
  },
  {
   "cell_type": "code",
   "execution_count": 34,
   "id": "604112dd",
   "metadata": {},
   "outputs": [],
   "source": [
    "d = {'b': 4, 'c': 5, 'd': 6, 'e': 6}"
   ]
  },
  {
   "cell_type": "code",
   "execution_count": 35,
   "id": "d2cef4cf",
   "metadata": {},
   "outputs": [
    {
     "ename": "TypeError",
     "evalue": "test8() takes 0 positional arguments but 1 was given",
     "output_type": "error",
     "traceback": [
      "\u001b[1;31m---------------------------------------------------------------------------\u001b[0m",
      "\u001b[1;31mTypeError\u001b[0m                                 Traceback (most recent call last)",
      "\u001b[1;32m~\\AppData\\Local\\Temp/ipykernel_1492/2123698705.py\u001b[0m in \u001b[0;36m<module>\u001b[1;34m\u001b[0m\n\u001b[1;32m----> 1\u001b[1;33m \u001b[0mtest8\u001b[0m\u001b[1;33m(\u001b[0m\u001b[0md\u001b[0m\u001b[1;33m)\u001b[0m\u001b[1;33m\u001b[0m\u001b[1;33m\u001b[0m\u001b[0m\n\u001b[0m",
      "\u001b[1;31mTypeError\u001b[0m: test8() takes 0 positional arguments but 1 was given"
     ]
    }
   ],
   "source": [
    "test8(d)"
   ]
  },
  {
   "cell_type": "code",
   "execution_count": 37,
   "id": "dfdc9918",
   "metadata": {},
   "outputs": [],
   "source": [
    "def test9(*m, **s) :\n",
    "    return m, s"
   ]
  },
  {
   "cell_type": "code",
   "execution_count": 38,
   "id": "408992de",
   "metadata": {},
   "outputs": [
    {
     "data": {
      "text/plain": [
       "((345, 45, 56, 5, 6, 56), {'b': 4, 'c': 6, 'd': 7, 'g': 9})"
      ]
     },
     "execution_count": 38,
     "metadata": {},
     "output_type": "execute_result"
    }
   ],
   "source": [
    "test9(345,45,56,5,6,56,b=4,c=6,d=7,g=9)"
   ]
  },
  {
   "cell_type": "code",
   "execution_count": 55,
   "id": "29d3045c",
   "metadata": {},
   "outputs": [],
   "source": [
    "def test10(*m):\n",
    "    n = 0\n",
    "    for i in m :\n",
    "        if type(i) == int :\n",
    "            n = n+i\n",
    "    return n        "
   ]
  },
  {
   "cell_type": "code",
   "execution_count": 54,
   "id": "89ae16cc",
   "metadata": {},
   "outputs": [
    {
     "data": {
      "text/plain": [
       "32"
      ]
     },
     "execution_count": 54,
     "metadata": {},
     "output_type": "execute_result"
    }
   ],
   "source": [
    "test10(2,3,4,5,5,6,6)"
   ]
  },
  {
   "cell_type": "code",
   "execution_count": 56,
   "id": "7a62a284",
   "metadata": {},
   "outputs": [
    {
     "data": {
      "text/plain": [
       "9"
      ]
     },
     "execution_count": 56,
     "metadata": {},
     "output_type": "execute_result"
    }
   ],
   "source": [
    "test10(2,3,4)"
   ]
  },
  {
   "cell_type": "code",
   "execution_count": 46,
   "id": "499d7c5c",
   "metadata": {},
   "outputs": [],
   "source": [
    "def test11(*m):\n",
    "    n = 1\n",
    "    for i in m :\n",
    "        if type(i) == int :\n",
    "            n = n*i\n",
    "    return n   "
   ]
  },
  {
   "cell_type": "code",
   "execution_count": 47,
   "id": "d00287f3",
   "metadata": {},
   "outputs": [
    {
     "data": {
      "text/plain": [
       "20"
      ]
     },
     "execution_count": 47,
     "metadata": {},
     "output_type": "execute_result"
    }
   ],
   "source": [
    "test11(4,5)"
   ]
  },
  {
   "cell_type": "code",
   "execution_count": 58,
   "id": "38ae7360",
   "metadata": {},
   "outputs": [],
   "source": [
    "n =lambda a, b : a + b           # lambda function is known as annoumous functions and avoid using complex problem\n",
    "                                        "
   ]
  },
  {
   "cell_type": "code",
   "execution_count": 59,
   "id": "7cde8883",
   "metadata": {},
   "outputs": [
    {
     "data": {
      "text/plain": [
       "9"
      ]
     },
     "execution_count": 59,
     "metadata": {},
     "output_type": "execute_result"
    }
   ],
   "source": [
    "n(4,5)"
   ]
  },
  {
   "cell_type": "code",
   "execution_count": 61,
   "id": "a81143cb",
   "metadata": {},
   "outputs": [],
   "source": [
    "def test5(a,b) :\n",
    "    return a + b\n"
   ]
  },
  {
   "cell_type": "code",
   "execution_count": 63,
   "id": "f57e63dd",
   "metadata": {},
   "outputs": [
    {
     "data": {
      "text/plain": [
       "9"
      ]
     },
     "execution_count": 63,
     "metadata": {},
     "output_type": "execute_result"
    }
   ],
   "source": [
    "test5(4,5)"
   ]
  },
  {
   "cell_type": "code",
   "execution_count": 64,
   "id": "48a2895d",
   "metadata": {},
   "outputs": [],
   "source": [
    "b = lambda *sudh : sudh"
   ]
  },
  {
   "cell_type": "code",
   "execution_count": 65,
   "id": "0d0f4afe",
   "metadata": {},
   "outputs": [
    {
     "data": {
      "text/plain": [
       "(45, 5, 4, 5, 5, 6, 677)"
      ]
     },
     "execution_count": 65,
     "metadata": {},
     "output_type": "execute_result"
    }
   ],
   "source": [
    "b(45,5,4,5,5,6,677)"
   ]
  },
  {
   "cell_type": "code",
   "execution_count": 66,
   "id": "27e01937",
   "metadata": {},
   "outputs": [],
   "source": [
    "t= (3,4,4,5,5,6,67,7,7)\n",
    "l =[]\n",
    "for i in t :\n",
    "    l.append(i)"
   ]
  },
  {
   "cell_type": "code",
   "execution_count": 67,
   "id": "667414b9",
   "metadata": {},
   "outputs": [
    {
     "data": {
      "text/plain": [
       "[3, 4, 4, 5, 5, 6, 67, 7, 7]"
      ]
     },
     "execution_count": 67,
     "metadata": {},
     "output_type": "execute_result"
    }
   ],
   "source": [
    "l"
   ]
  },
  {
   "cell_type": "code",
   "execution_count": 68,
   "id": "8caaaaae",
   "metadata": {},
   "outputs": [
    {
     "data": {
      "text/plain": [
       "[3, 4, 4, 5, 5, 6, 67, 7, 7]"
      ]
     },
     "execution_count": 68,
     "metadata": {},
     "output_type": "execute_result"
    }
   ],
   "source": [
    "[i for i in t]                  # list comprehension operation..."
   ]
  },
  {
   "cell_type": "code",
   "execution_count": 69,
   "id": "774f9996",
   "metadata": {},
   "outputs": [
    {
     "data": {
      "text/plain": [
       "{3, 4, 5, 6, 7, 67}"
      ]
     },
     "execution_count": 69,
     "metadata": {},
     "output_type": "execute_result"
    }
   ],
   "source": [
    "{i for i in t}"
   ]
  },
  {
   "cell_type": "code",
   "execution_count": 70,
   "id": "051835c9",
   "metadata": {},
   "outputs": [],
   "source": [
    "s =\"sudh\""
   ]
  },
  {
   "cell_type": "code",
   "execution_count": 72,
   "id": "76a4a060",
   "metadata": {},
   "outputs": [
    {
     "data": {
      "text/plain": [
       "['s', 'u', 'd', 'h']"
      ]
     },
     "execution_count": 72,
     "metadata": {},
     "output_type": "execute_result"
    }
   ],
   "source": [
    "[i for i in s]"
   ]
  },
  {
   "cell_type": "code",
   "execution_count": 73,
   "id": "849534bf",
   "metadata": {},
   "outputs": [
    {
     "data": {
      "text/plain": [
       "[0, 1, 4, 9, 16, 25, 36, 49, 64, 81]"
      ]
     },
     "execution_count": 73,
     "metadata": {},
     "output_type": "execute_result"
    }
   ],
   "source": [
    "[i*i for i in range(10)]"
   ]
  },
  {
   "cell_type": "code",
   "execution_count": 74,
   "id": "b63d4673",
   "metadata": {},
   "outputs": [],
   "source": [
    "l = []\n",
    "for i in range(10) :\n",
    "    l.append(i*i)"
   ]
  },
  {
   "cell_type": "code",
   "execution_count": 75,
   "id": "399fa2ea",
   "metadata": {},
   "outputs": [
    {
     "data": {
      "text/plain": [
       "[0, 1, 4, 9, 16, 25, 36, 49, 64, 81]"
      ]
     },
     "execution_count": 75,
     "metadata": {},
     "output_type": "execute_result"
    }
   ],
   "source": [
    "l"
   ]
  },
  {
   "cell_type": "code",
   "execution_count": 76,
   "id": "6bde0767",
   "metadata": {},
   "outputs": [],
   "source": [
    "l = lambda * x : [i for i in x]"
   ]
  },
  {
   "cell_type": "code",
   "execution_count": 77,
   "id": "cab627a3",
   "metadata": {},
   "outputs": [
    {
     "data": {
      "text/plain": [
       "[4, 45, 5, 6, 6, 7, 8, 9]"
      ]
     },
     "execution_count": 77,
     "metadata": {},
     "output_type": "execute_result"
    }
   ],
   "source": [
    "l(4,45,5,6,6,7,8,9)"
   ]
  },
  {
   "cell_type": "code",
   "execution_count": 79,
   "id": "184ff26f",
   "metadata": {},
   "outputs": [],
   "source": [
    "l = lambda * x : [i**2 for i in x]"
   ]
  },
  {
   "cell_type": "code",
   "execution_count": 81,
   "id": "71cae21a",
   "metadata": {},
   "outputs": [
    {
     "data": {
      "text/plain": [
       "[16, 2025, 25, 36, 36, 49, 64, 81]"
      ]
     },
     "execution_count": 81,
     "metadata": {},
     "output_type": "execute_result"
    }
   ],
   "source": [
    "l(4,45,5,6,6,7,8,9)"
   ]
  },
  {
   "cell_type": "code",
   "execution_count": 82,
   "id": "b2dd0218",
   "metadata": {},
   "outputs": [],
   "source": [
    "l = lambda * x : [i**3 for i in x]"
   ]
  },
  {
   "cell_type": "code",
   "execution_count": 84,
   "id": "abb36509",
   "metadata": {},
   "outputs": [
    {
     "data": {
      "text/plain": [
       "[8, 64, 91125, 125, 216, 216, 343, 512, 729]"
      ]
     },
     "execution_count": 84,
     "metadata": {},
     "output_type": "execute_result"
    }
   ],
   "source": [
    "l(2,4,45,5,6,6,7,8,9)"
   ]
  },
  {
   "cell_type": "code",
   "execution_count": 85,
   "id": "2daa72b8",
   "metadata": {},
   "outputs": [
    {
     "ename": "NameError",
     "evalue": "name 'test14' is not defined",
     "output_type": "error",
     "traceback": [
      "\u001b[1;31m---------------------------------------------------------------------------\u001b[0m",
      "\u001b[1;31mNameError\u001b[0m                                 Traceback (most recent call last)",
      "\u001b[1;32m~\\AppData\\Local\\Temp/ipykernel_1492/3106727842.py\u001b[0m in \u001b[0;36m<module>\u001b[1;34m\u001b[0m\n\u001b[1;32m----> 1\u001b[1;33m \u001b[0mtest14\u001b[0m\u001b[1;33m(\u001b[0m\u001b[0ma\u001b[0m \u001b[1;33m=\u001b[0m \u001b[1;36m7\u001b[0m\u001b[1;33m,\u001b[0m \u001b[0mb\u001b[0m \u001b[1;33m=\u001b[0m \u001b[1;34m\"sudh\"\u001b[0m\u001b[1;33m,\u001b[0m \u001b[0mc\u001b[0m \u001b[1;33m=\u001b[0m\u001b[1;36m345\u001b[0m\u001b[1;33m,\u001b[0m \u001b[0md\u001b[0m\u001b[1;33m=\u001b[0m\u001b[1;34m\"sudh\"\u001b[0m\u001b[1;33m,\u001b[0m \u001b[0ml\u001b[0m \u001b[1;33m=\u001b[0m \u001b[1;33m[\u001b[0m\u001b[1;36m2\u001b[0m\u001b[1;33m,\u001b[0m\u001b[1;36m3\u001b[0m\u001b[1;33m,\u001b[0m\u001b[1;36m4\u001b[0m\u001b[1;33m,\u001b[0m\u001b[1;36m45\u001b[0m\u001b[1;33m,\u001b[0m\u001b[1;34m\"sudh\"\u001b[0m\u001b[1;33m]\u001b[0m\u001b[1;33m)\u001b[0m\u001b[1;33m\u001b[0m\u001b[1;33m\u001b[0m\u001b[0m\n\u001b[0m",
      "\u001b[1;31mNameError\u001b[0m: name 'test14' is not defined"
     ]
    }
   ],
   "source": [
    "test14(a = 7, b = \"sudh\", c =345, d=\"sudh\", l = [2,3,4,45,\"sudh\"])"
   ]
  },
  {
   "cell_type": "code",
   "execution_count": 88,
   "id": "8629dd34",
   "metadata": {},
   "outputs": [],
   "source": [
    "def test14(**kwargs):\n",
    "    count = 0\n",
    "    print(kwargs)\n",
    "    print(kwargs.values())\n",
    "    for v in kwargs.values() :\n",
    "        if type(v) == str or type(v) == list :\n",
    "            count +=1\n",
    "    return count        \n",
    "    "
   ]
  },
  {
   "cell_type": "code",
   "execution_count": 89,
   "id": "23bbb00f",
   "metadata": {},
   "outputs": [
    {
     "name": "stdout",
     "output_type": "stream",
     "text": [
      "{'a': 7, 'b': 'sudh', 'c': 345, 'd': 'sudh', 'l': [2, 3, 4, 45, 'sudh']}\n",
      "dict_values([7, 'sudh', 345, 'sudh', [2, 3, 4, 45, 'sudh']])\n"
     ]
    },
    {
     "data": {
      "text/plain": [
       "3"
      ]
     },
     "execution_count": 89,
     "metadata": {},
     "output_type": "execute_result"
    }
   ],
   "source": [
    "test14(a = 7, b = \"sudh\", c =345, d=\"sudh\", l = [2,3,4,45,\"sudh\"])"
   ]
  },
  {
   "cell_type": "code",
   "execution_count": 90,
   "id": "b191d831",
   "metadata": {},
   "outputs": [],
   "source": [
    "def test15(**kwargs) :\n",
    "    return list(kwargs.values())"
   ]
  },
  {
   "cell_type": "code",
   "execution_count": 92,
   "id": "d158e9ef",
   "metadata": {},
   "outputs": [
    {
     "data": {
      "text/plain": [
       "[7, 'sudh', 345, 'sudh', [2, 3, 4, 45, 'sudh']]"
      ]
     },
     "execution_count": 92,
     "metadata": {},
     "output_type": "execute_result"
    }
   ],
   "source": [
    "test15(a = 7, b = \"sudh\", c =345, d=\"sudh\", l = [2,3,4,45,\"sudh\"])"
   ]
  },
  {
   "cell_type": "code",
   "execution_count": 95,
   "id": "be836ad7",
   "metadata": {},
   "outputs": [],
   "source": []
  },
  {
   "cell_type": "raw",
   "id": "7988c21e",
   "metadata": {},
   "source": [
    "\n",
    "------------------------------------------------------------------\n",
    "       Task-5 :- Question & Answer Sets ( 5th june, 2022):-\n",
    "-------------------------------------------------------------------\n",
    "  \n",
    "   q1. Try to print a prime number in between 1 to 1000.\n",
    "   q2. try to write a function which is equivalent to print function in python.\n",
    "   q3. try to write a function which is a replica  of list append, extend and pop function.\n",
    "   q4. try to write a lambda function which can return a concatination of all string you pass.\n",
    "   q5. try to write a lambda function which can return list of square of all the data between 1 to 100.\n",
    "   q6. try to write a 10 different example of lambda function with a choice of your tasks.\n",
    "   q7. try to write a function which can perform a read operation from .txt file.\n",
    "   \n",
    "   \n",
    "   submit task before 11th june,2022 to :-\n",
    "   shivan@ineuron.ai\n",
    "   shushanshu@ineuron.ai\n"
   ]
  },
  {
   "cell_type": "code",
   "execution_count": null,
   "id": "9e28dd94",
   "metadata": {},
   "outputs": [],
   "source": []
  }
 ],
 "metadata": {
  "kernelspec": {
   "display_name": "Python 3 (ipykernel)",
   "language": "python",
   "name": "python3"
  },
  "language_info": {
   "codemirror_mode": {
    "name": "ipython",
    "version": 3
   },
   "file_extension": ".py",
   "mimetype": "text/x-python",
   "name": "python",
   "nbconvert_exporter": "python",
   "pygments_lexer": "ipython3",
   "version": "3.9.7"
  }
 },
 "nbformat": 4,
 "nbformat_minor": 5
}
